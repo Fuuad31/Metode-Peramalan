{
  "cells": [
    {
      "cell_type": "code",
      "execution_count": 1,
      "metadata": {
        "id": "XfzBnaZLeVHm"
      },
      "outputs": [],
      "source": [
        "import pandas as pd\n",
        "import numpy as np\n",
        "import matplotlib.pyplot as plt\n",
        "import seaborn as sns\n",
        "import yfinance as yf"
      ]
    },
    {
      "cell_type": "markdown",
      "metadata": {
        "id": "3LBhXVL6el3l"
      },
      "source": [
        "# Get the historical data of BRIS"
      ]
    },
    {
      "cell_type": "code",
      "execution_count": 2,
      "metadata": {
        "id": "eFRuSzisej3I"
      },
      "outputs": [],
      "source": [
        "# giving the start and end dates\n",
        "startDate = '2023-09-22'\n",
        "endDate = '2024-02-22'\n",
        "\n",
        "ticker = 'BRIS.JK'"
      ]
    },
    {
      "cell_type": "code",
      "execution_count": 3,
      "metadata": {
        "colab": {
          "base_uri": "https://localhost:8080/"
        },
        "id": "ubP4BCA7fP18",
        "outputId": "e06a40db-5ea1-4d10-d318-14aa95ebbc6d"
      },
      "outputs": [
        {
          "name": "stderr",
          "output_type": "stream",
          "text": [
            "[*********************100%%**********************]  1 of 1 completed\n"
          ]
        }
      ],
      "source": [
        "df = yf.download(ticker,startDate,endDate)"
      ]
    },
    {
      "cell_type": "code",
      "execution_count": 4,
      "metadata": {
        "colab": {
          "base_uri": "https://localhost:8080/",
          "height": 455
        },
        "id": "GYDT34zigBEG",
        "outputId": "e906097c-f45f-4750-bef0-bec937892b62"
      },
      "outputs": [
        {
          "data": {
            "text/html": [
              "<div>\n",
              "<style scoped>\n",
              "    .dataframe tbody tr th:only-of-type {\n",
              "        vertical-align: middle;\n",
              "    }\n",
              "\n",
              "    .dataframe tbody tr th {\n",
              "        vertical-align: top;\n",
              "    }\n",
              "\n",
              "    .dataframe thead th {\n",
              "        text-align: right;\n",
              "    }\n",
              "</style>\n",
              "<table border=\"1\" class=\"dataframe\">\n",
              "  <thead>\n",
              "    <tr style=\"text-align: right;\">\n",
              "      <th></th>\n",
              "      <th>Open</th>\n",
              "      <th>High</th>\n",
              "      <th>Low</th>\n",
              "      <th>Close</th>\n",
              "      <th>Adj Close</th>\n",
              "      <th>Volume</th>\n",
              "    </tr>\n",
              "    <tr>\n",
              "      <th>Date</th>\n",
              "      <th></th>\n",
              "      <th></th>\n",
              "      <th></th>\n",
              "      <th></th>\n",
              "      <th></th>\n",
              "      <th></th>\n",
              "    </tr>\n",
              "  </thead>\n",
              "  <tbody>\n",
              "    <tr>\n",
              "      <th>2023-09-22</th>\n",
              "      <td>1650.0</td>\n",
              "      <td>1670.0</td>\n",
              "      <td>1630.0</td>\n",
              "      <td>1640.0</td>\n",
              "      <td>1640.0</td>\n",
              "      <td>28776400</td>\n",
              "    </tr>\n",
              "    <tr>\n",
              "      <th>2023-09-25</th>\n",
              "      <td>1640.0</td>\n",
              "      <td>1650.0</td>\n",
              "      <td>1615.0</td>\n",
              "      <td>1620.0</td>\n",
              "      <td>1620.0</td>\n",
              "      <td>22654100</td>\n",
              "    </tr>\n",
              "    <tr>\n",
              "      <th>2023-09-26</th>\n",
              "      <td>1620.0</td>\n",
              "      <td>1635.0</td>\n",
              "      <td>1600.0</td>\n",
              "      <td>1605.0</td>\n",
              "      <td>1605.0</td>\n",
              "      <td>28585900</td>\n",
              "    </tr>\n",
              "    <tr>\n",
              "      <th>2023-09-27</th>\n",
              "      <td>1615.0</td>\n",
              "      <td>1640.0</td>\n",
              "      <td>1610.0</td>\n",
              "      <td>1615.0</td>\n",
              "      <td>1615.0</td>\n",
              "      <td>21738200</td>\n",
              "    </tr>\n",
              "    <tr>\n",
              "      <th>2023-09-29</th>\n",
              "      <td>1620.0</td>\n",
              "      <td>1630.0</td>\n",
              "      <td>1605.0</td>\n",
              "      <td>1625.0</td>\n",
              "      <td>1625.0</td>\n",
              "      <td>14792200</td>\n",
              "    </tr>\n",
              "    <tr>\n",
              "      <th>...</th>\n",
              "      <td>...</td>\n",
              "      <td>...</td>\n",
              "      <td>...</td>\n",
              "      <td>...</td>\n",
              "      <td>...</td>\n",
              "      <td>...</td>\n",
              "    </tr>\n",
              "    <tr>\n",
              "      <th>2024-02-15</th>\n",
              "      <td>2400.0</td>\n",
              "      <td>2450.0</td>\n",
              "      <td>2380.0</td>\n",
              "      <td>2390.0</td>\n",
              "      <td>2390.0</td>\n",
              "      <td>74108800</td>\n",
              "    </tr>\n",
              "    <tr>\n",
              "      <th>2024-02-16</th>\n",
              "      <td>2390.0</td>\n",
              "      <td>2410.0</td>\n",
              "      <td>2310.0</td>\n",
              "      <td>2330.0</td>\n",
              "      <td>2330.0</td>\n",
              "      <td>39394100</td>\n",
              "    </tr>\n",
              "    <tr>\n",
              "      <th>2024-02-19</th>\n",
              "      <td>2330.0</td>\n",
              "      <td>2410.0</td>\n",
              "      <td>2290.0</td>\n",
              "      <td>2380.0</td>\n",
              "      <td>2380.0</td>\n",
              "      <td>49202700</td>\n",
              "    </tr>\n",
              "    <tr>\n",
              "      <th>2024-02-20</th>\n",
              "      <td>2400.0</td>\n",
              "      <td>2500.0</td>\n",
              "      <td>2360.0</td>\n",
              "      <td>2480.0</td>\n",
              "      <td>2480.0</td>\n",
              "      <td>76880900</td>\n",
              "    </tr>\n",
              "    <tr>\n",
              "      <th>2024-02-21</th>\n",
              "      <td>2480.0</td>\n",
              "      <td>2500.0</td>\n",
              "      <td>2400.0</td>\n",
              "      <td>2440.0</td>\n",
              "      <td>2440.0</td>\n",
              "      <td>66638500</td>\n",
              "    </tr>\n",
              "  </tbody>\n",
              "</table>\n",
              "<p>102 rows × 6 columns</p>\n",
              "</div>"
            ],
            "text/plain": [
              "              Open    High     Low   Close  Adj Close    Volume\n",
              "Date                                                           \n",
              "2023-09-22  1650.0  1670.0  1630.0  1640.0     1640.0  28776400\n",
              "2023-09-25  1640.0  1650.0  1615.0  1620.0     1620.0  22654100\n",
              "2023-09-26  1620.0  1635.0  1600.0  1605.0     1605.0  28585900\n",
              "2023-09-27  1615.0  1640.0  1610.0  1615.0     1615.0  21738200\n",
              "2023-09-29  1620.0  1630.0  1605.0  1625.0     1625.0  14792200\n",
              "...            ...     ...     ...     ...        ...       ...\n",
              "2024-02-15  2400.0  2450.0  2380.0  2390.0     2390.0  74108800\n",
              "2024-02-16  2390.0  2410.0  2310.0  2330.0     2330.0  39394100\n",
              "2024-02-19  2330.0  2410.0  2290.0  2380.0     2380.0  49202700\n",
              "2024-02-20  2400.0  2500.0  2360.0  2480.0     2480.0  76880900\n",
              "2024-02-21  2480.0  2500.0  2400.0  2440.0     2440.0  66638500\n",
              "\n",
              "[102 rows x 6 columns]"
            ]
          },
          "execution_count": 4,
          "metadata": {},
          "output_type": "execute_result"
        }
      ],
      "source": [
        "df"
      ]
    },
    {
      "cell_type": "markdown",
      "metadata": {
        "id": "_rgD-myNgRXz"
      },
      "source": [
        "# Create MA 5, 10, 20, 50"
      ]
    },
    {
      "cell_type": "code",
      "execution_count": 5,
      "metadata": {
        "colab": {
          "base_uri": "https://localhost:8080/"
        },
        "id": "Z1N0SfgShY0Z",
        "outputId": "334db622-d6ca-4c79-a2e6-697122210f51"
      },
      "outputs": [
        {
          "data": {
            "text/plain": [
              "Index(['Open', 'High', 'Low', 'Close', 'Adj Close', 'Volume'], dtype='object')"
            ]
          },
          "execution_count": 5,
          "metadata": {},
          "output_type": "execute_result"
        }
      ],
      "source": [
        "df.columns"
      ]
    },
    {
      "cell_type": "code",
      "execution_count": 6,
      "metadata": {
        "colab": {
          "base_uri": "https://localhost:8080/"
        },
        "id": "6iwRjrpYhUr5",
        "outputId": "39352dc3-e0d8-45bb-c44a-2361f52a178d"
      },
      "outputs": [
        {
          "data": {
            "text/html": [
              "<div>\n",
              "<style scoped>\n",
              "    .dataframe tbody tr th:only-of-type {\n",
              "        vertical-align: middle;\n",
              "    }\n",
              "\n",
              "    .dataframe tbody tr th {\n",
              "        vertical-align: top;\n",
              "    }\n",
              "\n",
              "    .dataframe thead th {\n",
              "        text-align: right;\n",
              "    }\n",
              "</style>\n",
              "<table border=\"1\" class=\"dataframe\">\n",
              "  <thead>\n",
              "    <tr style=\"text-align: right;\">\n",
              "      <th></th>\n",
              "      <th>Close</th>\n",
              "    </tr>\n",
              "    <tr>\n",
              "      <th>Date</th>\n",
              "      <th></th>\n",
              "    </tr>\n",
              "  </thead>\n",
              "  <tbody>\n",
              "    <tr>\n",
              "      <th>2023-09-22</th>\n",
              "      <td>1640.0</td>\n",
              "    </tr>\n",
              "    <tr>\n",
              "      <th>2023-09-25</th>\n",
              "      <td>1620.0</td>\n",
              "    </tr>\n",
              "    <tr>\n",
              "      <th>2023-09-26</th>\n",
              "      <td>1605.0</td>\n",
              "    </tr>\n",
              "    <tr>\n",
              "      <th>2023-09-27</th>\n",
              "      <td>1615.0</td>\n",
              "    </tr>\n",
              "    <tr>\n",
              "      <th>2023-09-29</th>\n",
              "      <td>1625.0</td>\n",
              "    </tr>\n",
              "    <tr>\n",
              "      <th>...</th>\n",
              "      <td>...</td>\n",
              "    </tr>\n",
              "    <tr>\n",
              "      <th>2024-02-15</th>\n",
              "      <td>2390.0</td>\n",
              "    </tr>\n",
              "    <tr>\n",
              "      <th>2024-02-16</th>\n",
              "      <td>2330.0</td>\n",
              "    </tr>\n",
              "    <tr>\n",
              "      <th>2024-02-19</th>\n",
              "      <td>2380.0</td>\n",
              "    </tr>\n",
              "    <tr>\n",
              "      <th>2024-02-20</th>\n",
              "      <td>2480.0</td>\n",
              "    </tr>\n",
              "    <tr>\n",
              "      <th>2024-02-21</th>\n",
              "      <td>2440.0</td>\n",
              "    </tr>\n",
              "  </tbody>\n",
              "</table>\n",
              "<p>102 rows × 1 columns</p>\n",
              "</div>"
            ],
            "text/plain": [
              "             Close\n",
              "Date              \n",
              "2023-09-22  1640.0\n",
              "2023-09-25  1620.0\n",
              "2023-09-26  1605.0\n",
              "2023-09-27  1615.0\n",
              "2023-09-29  1625.0\n",
              "...            ...\n",
              "2024-02-15  2390.0\n",
              "2024-02-16  2330.0\n",
              "2024-02-19  2380.0\n",
              "2024-02-20  2480.0\n",
              "2024-02-21  2440.0\n",
              "\n",
              "[102 rows x 1 columns]"
            ]
          },
          "execution_count": 6,
          "metadata": {},
          "output_type": "execute_result"
        }
      ],
      "source": [
        "df_short_term = pd.DataFrame(df['Close'])\n",
        "df_short_term"
      ]
    },
    {
      "cell_type": "code",
      "execution_count": 7,
      "metadata": {
        "colab": {
          "base_uri": "https://localhost:8080/"
        },
        "id": "AczVW3KdibG1",
        "outputId": "8557ef92-7d5e-4f46-9b8e-35848c4684a2"
      },
      "outputs": [
        {
          "data": {
            "text/plain": [
              "Index(['Close'], dtype='object')"
            ]
          },
          "execution_count": 7,
          "metadata": {},
          "output_type": "execute_result"
        }
      ],
      "source": [
        "df_short_term.columns"
      ]
    },
    {
      "cell_type": "code",
      "execution_count": 8,
      "metadata": {
        "id": "U4KGnbLthkLQ"
      },
      "outputs": [],
      "source": [
        "df_short_term['SMA5'] = df_short_term['Close'].rolling(5).mean()\n",
        "df_short_term['SMA10'] = df_short_term['Close'].rolling(10).mean()\n",
        "df_short_term['SMA20'] = df_short_term['Close'].rolling(20).mean()\n",
        "df_short_term['SMA50'] = df_short_term['Close'].rolling(50).mean()"
      ]
    },
    {
      "cell_type": "code",
      "execution_count": 9,
      "metadata": {
        "colab": {
          "base_uri": "https://localhost:8080/"
        },
        "id": "efd4BPdkh7Lg",
        "outputId": "318098ec-72ca-447f-bc13-397b67eaa098"
      },
      "outputs": [
        {
          "data": {
            "text/html": [
              "<div>\n",
              "<style scoped>\n",
              "    .dataframe tbody tr th:only-of-type {\n",
              "        vertical-align: middle;\n",
              "    }\n",
              "\n",
              "    .dataframe tbody tr th {\n",
              "        vertical-align: top;\n",
              "    }\n",
              "\n",
              "    .dataframe thead th {\n",
              "        text-align: right;\n",
              "    }\n",
              "</style>\n",
              "<table border=\"1\" class=\"dataframe\">\n",
              "  <thead>\n",
              "    <tr style=\"text-align: right;\">\n",
              "      <th></th>\n",
              "      <th>Close</th>\n",
              "      <th>SMA5</th>\n",
              "      <th>SMA10</th>\n",
              "      <th>SMA20</th>\n",
              "      <th>SMA50</th>\n",
              "    </tr>\n",
              "    <tr>\n",
              "      <th>Date</th>\n",
              "      <th></th>\n",
              "      <th></th>\n",
              "      <th></th>\n",
              "      <th></th>\n",
              "      <th></th>\n",
              "    </tr>\n",
              "  </thead>\n",
              "  <tbody>\n",
              "    <tr>\n",
              "      <th>2023-09-22</th>\n",
              "      <td>1640.0</td>\n",
              "      <td>NaN</td>\n",
              "      <td>NaN</td>\n",
              "      <td>NaN</td>\n",
              "      <td>NaN</td>\n",
              "    </tr>\n",
              "    <tr>\n",
              "      <th>2023-09-25</th>\n",
              "      <td>1620.0</td>\n",
              "      <td>NaN</td>\n",
              "      <td>NaN</td>\n",
              "      <td>NaN</td>\n",
              "      <td>NaN</td>\n",
              "    </tr>\n",
              "    <tr>\n",
              "      <th>2023-09-26</th>\n",
              "      <td>1605.0</td>\n",
              "      <td>NaN</td>\n",
              "      <td>NaN</td>\n",
              "      <td>NaN</td>\n",
              "      <td>NaN</td>\n",
              "    </tr>\n",
              "    <tr>\n",
              "      <th>2023-09-27</th>\n",
              "      <td>1615.0</td>\n",
              "      <td>NaN</td>\n",
              "      <td>NaN</td>\n",
              "      <td>NaN</td>\n",
              "      <td>NaN</td>\n",
              "    </tr>\n",
              "    <tr>\n",
              "      <th>2023-09-29</th>\n",
              "      <td>1625.0</td>\n",
              "      <td>1621.0</td>\n",
              "      <td>NaN</td>\n",
              "      <td>NaN</td>\n",
              "      <td>NaN</td>\n",
              "    </tr>\n",
              "    <tr>\n",
              "      <th>...</th>\n",
              "      <td>...</td>\n",
              "      <td>...</td>\n",
              "      <td>...</td>\n",
              "      <td>...</td>\n",
              "      <td>...</td>\n",
              "    </tr>\n",
              "    <tr>\n",
              "      <th>2024-02-15</th>\n",
              "      <td>2390.0</td>\n",
              "      <td>2356.0</td>\n",
              "      <td>2322.0</td>\n",
              "      <td>2180.75</td>\n",
              "      <td>1931.9</td>\n",
              "    </tr>\n",
              "    <tr>\n",
              "      <th>2024-02-16</th>\n",
              "      <td>2330.0</td>\n",
              "      <td>2360.0</td>\n",
              "      <td>2337.0</td>\n",
              "      <td>2200.75</td>\n",
              "      <td>1945.4</td>\n",
              "    </tr>\n",
              "    <tr>\n",
              "      <th>2024-02-19</th>\n",
              "      <td>2380.0</td>\n",
              "      <td>2364.0</td>\n",
              "      <td>2342.0</td>\n",
              "      <td>2222.25</td>\n",
              "      <td>1959.5</td>\n",
              "    </tr>\n",
              "    <tr>\n",
              "      <th>2024-02-20</th>\n",
              "      <td>2480.0</td>\n",
              "      <td>2386.0</td>\n",
              "      <td>2360.0</td>\n",
              "      <td>2245.75</td>\n",
              "      <td>1975.1</td>\n",
              "    </tr>\n",
              "    <tr>\n",
              "      <th>2024-02-21</th>\n",
              "      <td>2440.0</td>\n",
              "      <td>2404.0</td>\n",
              "      <td>2372.0</td>\n",
              "      <td>2267.25</td>\n",
              "      <td>1989.6</td>\n",
              "    </tr>\n",
              "  </tbody>\n",
              "</table>\n",
              "<p>102 rows × 5 columns</p>\n",
              "</div>"
            ],
            "text/plain": [
              "             Close    SMA5   SMA10    SMA20   SMA50\n",
              "Date                                               \n",
              "2023-09-22  1640.0     NaN     NaN      NaN     NaN\n",
              "2023-09-25  1620.0     NaN     NaN      NaN     NaN\n",
              "2023-09-26  1605.0     NaN     NaN      NaN     NaN\n",
              "2023-09-27  1615.0     NaN     NaN      NaN     NaN\n",
              "2023-09-29  1625.0  1621.0     NaN      NaN     NaN\n",
              "...            ...     ...     ...      ...     ...\n",
              "2024-02-15  2390.0  2356.0  2322.0  2180.75  1931.9\n",
              "2024-02-16  2330.0  2360.0  2337.0  2200.75  1945.4\n",
              "2024-02-19  2380.0  2364.0  2342.0  2222.25  1959.5\n",
              "2024-02-20  2480.0  2386.0  2360.0  2245.75  1975.1\n",
              "2024-02-21  2440.0  2404.0  2372.0  2267.25  1989.6\n",
              "\n",
              "[102 rows x 5 columns]"
            ]
          },
          "execution_count": 9,
          "metadata": {},
          "output_type": "execute_result"
        }
      ],
      "source": [
        "df_short_term"
      ]
    },
    {
      "cell_type": "code",
      "execution_count": 10,
      "metadata": {
        "colab": {
          "base_uri": "https://localhost:8080/"
        },
        "id": "Z933pvAHhoy1",
        "outputId": "99252a3e-cc87-4de2-8b61-3743252ec1df"
      },
      "outputs": [
        {
          "data": {
            "text/plain": [
              "Index(['Close', 'SMA5', 'SMA10', 'SMA20', 'SMA50'], dtype='object')"
            ]
          },
          "execution_count": 10,
          "metadata": {},
          "output_type": "execute_result"
        }
      ],
      "source": [
        "df_short_term.columns"
      ]
    },
    {
      "cell_type": "markdown",
      "metadata": {
        "id": "uB--myYZk9N-"
      },
      "source": [
        "#EDA"
      ]
    },
    {
      "cell_type": "code",
      "execution_count": 11,
      "metadata": {
        "colab": {
          "base_uri": "https://localhost:8080/",
          "height": 610
        },
        "id": "ocbado6hh_Iz",
        "outputId": "30f0f83d-2829-482d-8016-bdc1270eaed7"
      },
      "outputs": [
        {
          "data": {
            "text/plain": [
              "<matplotlib.legend.Legend at 0x1af709339a0>"
            ]
          },
          "execution_count": 11,
          "metadata": {},
          "output_type": "execute_result"
        },
        {
          "data": {
            "image/png": "[encoded data removed]",
            "text/plain": [
              "<Figure size 2500x1200 with 1 Axes>"
            ]
          },
          "metadata": {},
          "output_type": "display_data"
        }
      ],
      "source": [
        "df_short_term['Close'].plot(kind = 'line', figsize = (25,12))\n",
        "df_short_term['SMA5'].plot(kind = 'line', figsize = (25,12))\n",
        "df_short_term['SMA10'].plot(kind = 'line', figsize = (25,12))\n",
        "df_short_term['SMA20'].plot(kind = 'line', figsize = (25,12))\n",
        "df_short_term['SMA50'].plot(kind = 'line', figsize = (25,12), title = 'Short Term Simple Moving Average BRIS')\n",
        "plt.legend(['Close', 'SMA5', 'SMA10', 'SMA20', 'SMA50'], loc=\"upper left\")"
      ]
    },
    {
      "cell_type": "markdown",
      "metadata": {
        "id": "prZWq5Y-j06F"
      },
      "source": [
        "\n",
        "\n",
        "1.   Terlihat bahwa SMA50 lumayan jauh dari harga asli.\n",
        "2.   SMA20 tampak menjadi resistance hingga akhirnya crossing dan berubah menjadi support. Akan tetapi, SMA20 semakin menjauhi harga asli.\n",
        "3. SMA10 menjadi resistance dan support yang cukup kuat, walaupun terjadi beberapa crossing, akan tetapi masih dalam batas error.\n",
        "4. Untuk SMA5 sendiri hampir sama dengan SMA10, akan tetapi lebih baik menggunakan SMA10. Akan tetapi, SMA5 mungkin memiliki error yang lebih baik daripada SMA10.\n",
        "\n"
      ]
    },
    {
      "cell_type": "markdown",
      "metadata": {
        "id": "dCMhT-K9ol-8"
      },
      "source": [
        "# Error SMA5"
      ]
    },
    {
      "cell_type": "code",
      "execution_count": 12,
      "metadata": {
        "colab": {
          "base_uri": "https://localhost:8080/",
          "height": 455
        },
        "id": "i2lyJLAGmE19",
        "outputId": "92e38dcb-ffe2-4c4b-be96-e49ce6a701ee"
      },
      "outputs": [
        {
          "data": {
            "text/html": [
              "<div>\n",
              "<style scoped>\n",
              "    .dataframe tbody tr th:only-of-type {\n",
              "        vertical-align: middle;\n",
              "    }\n",
              "\n",
              "    .dataframe tbody tr th {\n",
              "        vertical-align: top;\n",
              "    }\n",
              "\n",
              "    .dataframe thead th {\n",
              "        text-align: right;\n",
              "    }\n",
              "</style>\n",
              "<table border=\"1\" class=\"dataframe\">\n",
              "  <thead>\n",
              "    <tr style=\"text-align: right;\">\n",
              "      <th></th>\n",
              "      <th>Close</th>\n",
              "      <th>SMA5</th>\n",
              "    </tr>\n",
              "    <tr>\n",
              "      <th>Date</th>\n",
              "      <th></th>\n",
              "      <th></th>\n",
              "    </tr>\n",
              "  </thead>\n",
              "  <tbody>\n",
              "    <tr>\n",
              "      <th>2023-09-22</th>\n",
              "      <td>1640.0</td>\n",
              "      <td>NaN</td>\n",
              "    </tr>\n",
              "    <tr>\n",
              "      <th>2023-09-25</th>\n",
              "      <td>1620.0</td>\n",
              "      <td>NaN</td>\n",
              "    </tr>\n",
              "    <tr>\n",
              "      <th>2023-09-26</th>\n",
              "      <td>1605.0</td>\n",
              "      <td>NaN</td>\n",
              "    </tr>\n",
              "    <tr>\n",
              "      <th>2023-09-27</th>\n",
              "      <td>1615.0</td>\n",
              "      <td>NaN</td>\n",
              "    </tr>\n",
              "    <tr>\n",
              "      <th>2023-09-29</th>\n",
              "      <td>1625.0</td>\n",
              "      <td>1621.0</td>\n",
              "    </tr>\n",
              "    <tr>\n",
              "      <th>...</th>\n",
              "      <td>...</td>\n",
              "      <td>...</td>\n",
              "    </tr>\n",
              "    <tr>\n",
              "      <th>2024-02-15</th>\n",
              "      <td>2390.0</td>\n",
              "      <td>2356.0</td>\n",
              "    </tr>\n",
              "    <tr>\n",
              "      <th>2024-02-16</th>\n",
              "      <td>2330.0</td>\n",
              "      <td>2360.0</td>\n",
              "    </tr>\n",
              "    <tr>\n",
              "      <th>2024-02-19</th>\n",
              "      <td>2380.0</td>\n",
              "      <td>2364.0</td>\n",
              "    </tr>\n",
              "    <tr>\n",
              "      <th>2024-02-20</th>\n",
              "      <td>2480.0</td>\n",
              "      <td>2386.0</td>\n",
              "    </tr>\n",
              "    <tr>\n",
              "      <th>2024-02-21</th>\n",
              "      <td>2440.0</td>\n",
              "      <td>2404.0</td>\n",
              "    </tr>\n",
              "  </tbody>\n",
              "</table>\n",
              "<p>102 rows × 2 columns</p>\n",
              "</div>"
            ],
            "text/plain": [
              "             Close    SMA5\n",
              "Date                      \n",
              "2023-09-22  1640.0     NaN\n",
              "2023-09-25  1620.0     NaN\n",
              "2023-09-26  1605.0     NaN\n",
              "2023-09-27  1615.0     NaN\n",
              "2023-09-29  1625.0  1621.0\n",
              "...            ...     ...\n",
              "2024-02-15  2390.0  2356.0\n",
              "2024-02-16  2330.0  2360.0\n",
              "2024-02-19  2380.0  2364.0\n",
              "2024-02-20  2480.0  2386.0\n",
              "2024-02-21  2440.0  2404.0\n",
              "\n",
              "[102 rows x 2 columns]"
            ]
          },
          "execution_count": 12,
          "metadata": {},
          "output_type": "execute_result"
        }
      ],
      "source": [
        "df_sma5 = pd.DataFrame(df_short_term['Close'])\n",
        "df_sma5['SMA5'] = df_short_term['SMA5']\n",
        "df_sma5"
      ]
    },
    {
      "cell_type": "markdown",
      "metadata": {
        "id": "QBj7UNsApQRT"
      },
      "source": [
        "$Error = Observation - Forecast$"
      ]
    },
    {
      "cell_type": "code",
      "execution_count": 13,
      "metadata": {
        "colab": {
          "base_uri": "https://localhost:8080/",
          "height": 559
        },
        "id": "tkTY6yQkpTsx",
        "outputId": "4db72c1d-62fb-4616-eb73-f55e39996aca"
      },
      "outputs": [
        {
          "name": "stderr",
          "output_type": "stream",
          "text": [
            "C:\\Users\\Levono\\AppData\\Local\\Temp\\ipykernel_2296\\3857539288.py:2: SettingWithCopyWarning: \n",
            "A value is trying to be set on a copy of a slice from a DataFrame.\n",
            "Try using .loc[row_indexer,col_indexer] = value instead\n",
            "\n",
            "See the caveats in the documentation: https://pandas.pydata.org/pandas-docs/stable/user_guide/indexing.html#returning-a-view-versus-a-copy\n",
            "  df_sma5['error'] = df_sma5['Close'] - df_sma5['SMA5']\n"
          ]
        },
        {
          "data": {
            "text/html": [
              "<div>\n",
              "<style scoped>\n",
              "    .dataframe tbody tr th:only-of-type {\n",
              "        vertical-align: middle;\n",
              "    }\n",
              "\n",
              "    .dataframe tbody tr th {\n",
              "        vertical-align: top;\n",
              "    }\n",
              "\n",
              "    .dataframe thead th {\n",
              "        text-align: right;\n",
              "    }\n",
              "</style>\n",
              "<table border=\"1\" class=\"dataframe\">\n",
              "  <thead>\n",
              "    <tr style=\"text-align: right;\">\n",
              "      <th></th>\n",
              "      <th>Close</th>\n",
              "      <th>SMA5</th>\n",
              "      <th>error</th>\n",
              "    </tr>\n",
              "    <tr>\n",
              "      <th>Date</th>\n",
              "      <th></th>\n",
              "      <th></th>\n",
              "      <th></th>\n",
              "    </tr>\n",
              "  </thead>\n",
              "  <tbody>\n",
              "    <tr>\n",
              "      <th>2023-09-29</th>\n",
              "      <td>1625.0</td>\n",
              "      <td>1621.0</td>\n",
              "      <td>4.0</td>\n",
              "    </tr>\n",
              "    <tr>\n",
              "      <th>2023-10-02</th>\n",
              "      <td>1615.0</td>\n",
              "      <td>1616.0</td>\n",
              "      <td>-1.0</td>\n",
              "    </tr>\n",
              "    <tr>\n",
              "      <th>2023-10-03</th>\n",
              "      <td>1540.0</td>\n",
              "      <td>1600.0</td>\n",
              "      <td>-60.0</td>\n",
              "    </tr>\n",
              "    <tr>\n",
              "      <th>2023-10-04</th>\n",
              "      <td>1510.0</td>\n",
              "      <td>1581.0</td>\n",
              "      <td>-71.0</td>\n",
              "    </tr>\n",
              "    <tr>\n",
              "      <th>2023-10-05</th>\n",
              "      <td>1545.0</td>\n",
              "      <td>1567.0</td>\n",
              "      <td>-22.0</td>\n",
              "    </tr>\n",
              "    <tr>\n",
              "      <th>...</th>\n",
              "      <td>...</td>\n",
              "      <td>...</td>\n",
              "      <td>...</td>\n",
              "    </tr>\n",
              "    <tr>\n",
              "      <th>2024-02-15</th>\n",
              "      <td>2390.0</td>\n",
              "      <td>2356.0</td>\n",
              "      <td>34.0</td>\n",
              "    </tr>\n",
              "    <tr>\n",
              "      <th>2024-02-16</th>\n",
              "      <td>2330.0</td>\n",
              "      <td>2360.0</td>\n",
              "      <td>-30.0</td>\n",
              "    </tr>\n",
              "    <tr>\n",
              "      <th>2024-02-19</th>\n",
              "      <td>2380.0</td>\n",
              "      <td>2364.0</td>\n",
              "      <td>16.0</td>\n",
              "    </tr>\n",
              "    <tr>\n",
              "      <th>2024-02-20</th>\n",
              "      <td>2480.0</td>\n",
              "      <td>2386.0</td>\n",
              "      <td>94.0</td>\n",
              "    </tr>\n",
              "    <tr>\n",
              "      <th>2024-02-21</th>\n",
              "      <td>2440.0</td>\n",
              "      <td>2404.0</td>\n",
              "      <td>36.0</td>\n",
              "    </tr>\n",
              "  </tbody>\n",
              "</table>\n",
              "<p>98 rows × 3 columns</p>\n",
              "</div>"
            ],
            "text/plain": [
              "             Close    SMA5  error\n",
              "Date                             \n",
              "2023-09-29  1625.0  1621.0    4.0\n",
              "2023-10-02  1615.0  1616.0   -1.0\n",
              "2023-10-03  1540.0  1600.0  -60.0\n",
              "2023-10-04  1510.0  1581.0  -71.0\n",
              "2023-10-05  1545.0  1567.0  -22.0\n",
              "...            ...     ...    ...\n",
              "2024-02-15  2390.0  2356.0   34.0\n",
              "2024-02-16  2330.0  2360.0  -30.0\n",
              "2024-02-19  2380.0  2364.0   16.0\n",
              "2024-02-20  2480.0  2386.0   94.0\n",
              "2024-02-21  2440.0  2404.0   36.0\n",
              "\n",
              "[98 rows x 3 columns]"
            ]
          },
          "execution_count": 13,
          "metadata": {},
          "output_type": "execute_result"
        }
      ],
      "source": [
        "df_sma5 = df_sma5.dropna()\n",
        "df_sma5['error'] = df_sma5['Close'] - df_sma5['SMA5']\n",
        "df_sma5"
      ]
    },
    {
      "cell_type": "code",
      "execution_count": 14,
      "metadata": {
        "colab": {
          "base_uri": "https://localhost:8080/",
          "height": 424
        },
        "id": "cYT2EoryrHgi",
        "outputId": "2809a9f4-f057-4573-c0ed-3be90e5b84df"
      },
      "outputs": [
        {
          "data": {
            "text/html": [
              "<div>\n",
              "<style scoped>\n",
              "    .dataframe tbody tr th:only-of-type {\n",
              "        vertical-align: middle;\n",
              "    }\n",
              "\n",
              "    .dataframe tbody tr th {\n",
              "        vertical-align: top;\n",
              "    }\n",
              "\n",
              "    .dataframe thead th {\n",
              "        text-align: right;\n",
              "    }\n",
              "</style>\n",
              "<table border=\"1\" class=\"dataframe\">\n",
              "  <thead>\n",
              "    <tr style=\"text-align: right;\">\n",
              "      <th></th>\n",
              "      <th>Date</th>\n",
              "      <th>Close</th>\n",
              "      <th>SMA5</th>\n",
              "      <th>error</th>\n",
              "    </tr>\n",
              "  </thead>\n",
              "  <tbody>\n",
              "    <tr>\n",
              "      <th>0</th>\n",
              "      <td>2023-09-29</td>\n",
              "      <td>1625.0</td>\n",
              "      <td>1621.0</td>\n",
              "      <td>4.0</td>\n",
              "    </tr>\n",
              "    <tr>\n",
              "      <th>1</th>\n",
              "      <td>2023-10-02</td>\n",
              "      <td>1615.0</td>\n",
              "      <td>1616.0</td>\n",
              "      <td>-1.0</td>\n",
              "    </tr>\n",
              "    <tr>\n",
              "      <th>2</th>\n",
              "      <td>2023-10-03</td>\n",
              "      <td>1540.0</td>\n",
              "      <td>1600.0</td>\n",
              "      <td>-60.0</td>\n",
              "    </tr>\n",
              "    <tr>\n",
              "      <th>3</th>\n",
              "      <td>2023-10-04</td>\n",
              "      <td>1510.0</td>\n",
              "      <td>1581.0</td>\n",
              "      <td>-71.0</td>\n",
              "    </tr>\n",
              "    <tr>\n",
              "      <th>4</th>\n",
              "      <td>2023-10-05</td>\n",
              "      <td>1545.0</td>\n",
              "      <td>1567.0</td>\n",
              "      <td>-22.0</td>\n",
              "    </tr>\n",
              "    <tr>\n",
              "      <th>...</th>\n",
              "      <td>...</td>\n",
              "      <td>...</td>\n",
              "      <td>...</td>\n",
              "      <td>...</td>\n",
              "    </tr>\n",
              "    <tr>\n",
              "      <th>93</th>\n",
              "      <td>2024-02-15</td>\n",
              "      <td>2390.0</td>\n",
              "      <td>2356.0</td>\n",
              "      <td>34.0</td>\n",
              "    </tr>\n",
              "    <tr>\n",
              "      <th>94</th>\n",
              "      <td>2024-02-16</td>\n",
              "      <td>2330.0</td>\n",
              "      <td>2360.0</td>\n",
              "      <td>-30.0</td>\n",
              "    </tr>\n",
              "    <tr>\n",
              "      <th>95</th>\n",
              "      <td>2024-02-19</td>\n",
              "      <td>2380.0</td>\n",
              "      <td>2364.0</td>\n",
              "      <td>16.0</td>\n",
              "    </tr>\n",
              "    <tr>\n",
              "      <th>96</th>\n",
              "      <td>2024-02-20</td>\n",
              "      <td>2480.0</td>\n",
              "      <td>2386.0</td>\n",
              "      <td>94.0</td>\n",
              "    </tr>\n",
              "    <tr>\n",
              "      <th>97</th>\n",
              "      <td>2024-02-21</td>\n",
              "      <td>2440.0</td>\n",
              "      <td>2404.0</td>\n",
              "      <td>36.0</td>\n",
              "    </tr>\n",
              "  </tbody>\n",
              "</table>\n",
              "<p>98 rows × 4 columns</p>\n",
              "</div>"
            ],
            "text/plain": [
              "         Date   Close    SMA5  error\n",
              "0  2023-09-29  1625.0  1621.0    4.0\n",
              "1  2023-10-02  1615.0  1616.0   -1.0\n",
              "2  2023-10-03  1540.0  1600.0  -60.0\n",
              "3  2023-10-04  1510.0  1581.0  -71.0\n",
              "4  2023-10-05  1545.0  1567.0  -22.0\n",
              "..        ...     ...     ...    ...\n",
              "93 2024-02-15  2390.0  2356.0   34.0\n",
              "94 2024-02-16  2330.0  2360.0  -30.0\n",
              "95 2024-02-19  2380.0  2364.0   16.0\n",
              "96 2024-02-20  2480.0  2386.0   94.0\n",
              "97 2024-02-21  2440.0  2404.0   36.0\n",
              "\n",
              "[98 rows x 4 columns]"
            ]
          },
          "execution_count": 14,
          "metadata": {},
          "output_type": "execute_result"
        }
      ],
      "source": [
        "df_sma5_fix = df_sma5.reset_index()\n",
        "df_sma5_fix"
      ]
    },
    {
      "cell_type": "markdown",
      "metadata": {
        "id": "MWL-giORresm"
      },
      "source": [
        "It works by accumulating deviations of the forecast errors that are above the desired target value **$T$** **(usually either zero or the average forecast error)** with one statistic $c^+$ and deviations that are below the target with another statistic $c^-$. The statistics $c^+$ and $c^-$ are called the upper and lower CUSUMs, respectively. They are computed as follows:\n",
        "\n",
        "\n",
        "> $C_t^+ = max[0, e_t(1)- (T + K) + C^+_{t-1} ]$\n",
        "\n",
        "> $C_t^- = min[0, e_t(1)- (T - K) + c^-_{t-1}]$\n",
        "\n",
        "where the constant $K$. usually called the **reference value** is usually chosen as $K = 0.5\\sigma_{e_{(1)}}$ and $\\sigma_{e_{(1)}}$ is the standard deviation of the one-step-ahead forecast errors.\n",
        "\n",
        "\n",
        "\n"
      ]
    },
    {
      "cell_type": "code",
      "execution_count": 73,
      "metadata": {
        "id": "Xv4dmGXUrYRd"
      },
      "outputs": [],
      "source": [
        "T = df_sma5_fix['error'].mean()"
      ]
    },
    {
      "cell_type": "code",
      "execution_count": 74,
      "metadata": {
        "id": "_wE7k-NAt29i"
      },
      "outputs": [],
      "source": [
        "K = 0.5*df_sma5_fix['error'].std()"
      ]
    },
    {
      "cell_type": "markdown",
      "metadata": {
        "id": "DHvfny_PyK5k"
      },
      "source": [
        "The decision rule is to signal if the statistic $C^+$ exceeds a decision interval H = $5\\sigma$  or if $C^-$ exceeds -H. "
      ]
    },
    {
      "cell_type": "code",
      "execution_count": 75,
      "metadata": {
        "id": "7w7gJc8VyMKm"
      },
      "outputs": [],
      "source": [
        "UCL = 0 + 10*K # Since K=0.5*sigma\n",
        "LCL = 0 - 10*K"
      ]
    },
    {
      "cell_type": "code",
      "execution_count": 76,
      "metadata": {
        "id": "2blxvD-7uR6s"
      },
      "outputs": [],
      "source": [
        "df_sma5_fix['C_plus'] = 0\n",
        "df_sma5_fix['C_min'] = 0\n",
        "df_sma5_fix['C'] = 0"
      ]
    },
    {
      "cell_type": "code",
      "execution_count": 77,
      "metadata": {
        "colab": {
          "base_uri": "https://localhost:8080/"
        },
        "id": "GKO0ofzjugf4",
        "outputId": "6700616a-5807-4e9c-addc-4940fb39a536"
      },
      "outputs": [
        {
          "name": "stderr",
          "output_type": "stream",
          "text": [
            "C:\\Users\\Levono\\AppData\\Local\\Temp\\ipykernel_2296\\1429061243.py:2: SettingWithCopyWarning: \n",
            "A value is trying to be set on a copy of a slice from a DataFrame\n",
            "\n",
            "See the caveats in the documentation: https://pandas.pydata.org/pandas-docs/stable/user_guide/indexing.html#returning-a-view-versus-a-copy\n",
            "  df_sma5_fix['C_plus'][i] = max(0, df_sma5_fix['error'][i] - (T+K) +  df_sma5_fix['C_plus'][i-1])\n",
            "C:\\Users\\Levono\\AppData\\Local\\Temp\\ipykernel_2296\\1429061243.py:3: SettingWithCopyWarning: \n",
            "A value is trying to be set on a copy of a slice from a DataFrame\n",
            "\n",
            "See the caveats in the documentation: https://pandas.pydata.org/pandas-docs/stable/user_guide/indexing.html#returning-a-view-versus-a-copy\n",
            "  df_sma5_fix['C_min'][i] = min(0, df_sma5_fix['error'][i] - (T-K) +  df_sma5_fix['C_min'][i-1])\n",
            "C:\\Users\\Levono\\AppData\\Local\\Temp\\ipykernel_2296\\1429061243.py:4: SettingWithCopyWarning: \n",
            "A value is trying to be set on a copy of a slice from a DataFrame\n",
            "\n",
            "See the caveats in the documentation: https://pandas.pydata.org/pandas-docs/stable/user_guide/indexing.html#returning-a-view-versus-a-copy\n",
            "  df_sma5_fix['C'][i] = df_sma5_fix['C_plus'][i] + df_sma5_fix['C_min'][i]\n"
          ]
        }
      ],
      "source": [
        "for i in range(1,98):\n",
        "  df_sma5_fix['C_plus'][i] = max(0, df_sma5_fix['error'][i] - (T+K) +  df_sma5_fix['C_plus'][i-1])\n",
        "  df_sma5_fix['C_min'][i] = min(0, df_sma5_fix['error'][i] - (T-K) +  df_sma5_fix['C_min'][i-1])\n",
        "  df_sma5_fix['C'][i] = df_sma5_fix['C_plus'][i] + df_sma5_fix['C_min'][i]"
      ]
    },
    {
      "cell_type": "code",
      "execution_count": 78,
      "metadata": {
        "colab": {
          "base_uri": "https://localhost:8080/",
          "height": 424
        },
        "id": "n6TT4duBvAHV",
        "outputId": "87be45bf-3f58-4a01-af3c-972ac04d23ef"
      },
      "outputs": [
        {
          "data": {
            "text/html": [
              "<div>\n",
              "<style scoped>\n",
              "    .dataframe tbody tr th:only-of-type {\n",
              "        vertical-align: middle;\n",
              "    }\n",
              "\n",
              "    .dataframe tbody tr th {\n",
              "        vertical-align: top;\n",
              "    }\n",
              "\n",
              "    .dataframe thead th {\n",
              "        text-align: right;\n",
              "    }\n",
              "</style>\n",
              "<table border=\"1\" class=\"dataframe\">\n",
              "  <thead>\n",
              "    <tr style=\"text-align: right;\">\n",
              "      <th></th>\n",
              "      <th>Date</th>\n",
              "      <th>Close</th>\n",
              "      <th>SMA5</th>\n",
              "      <th>error</th>\n",
              "      <th>C_plus</th>\n",
              "      <th>C_min</th>\n",
              "      <th>C</th>\n",
              "      <th>UCL</th>\n",
              "      <th>LCL</th>\n",
              "    </tr>\n",
              "  </thead>\n",
              "  <tbody>\n",
              "    <tr>\n",
              "      <th>0</th>\n",
              "      <td>2023-09-29</td>\n",
              "      <td>1625.0</td>\n",
              "      <td>1621.0</td>\n",
              "      <td>4.0</td>\n",
              "      <td>0.000000</td>\n",
              "      <td>0.000000</td>\n",
              "      <td>0.000000</td>\n",
              "      <td>213.210292</td>\n",
              "      <td>-213.210292</td>\n",
              "    </tr>\n",
              "    <tr>\n",
              "      <th>1</th>\n",
              "      <td>2023-10-02</td>\n",
              "      <td>1615.0</td>\n",
              "      <td>1616.0</td>\n",
              "      <td>-1.0</td>\n",
              "      <td>0.000000</td>\n",
              "      <td>0.000000</td>\n",
              "      <td>0.000000</td>\n",
              "      <td>213.210292</td>\n",
              "      <td>-213.210292</td>\n",
              "    </tr>\n",
              "    <tr>\n",
              "      <th>2</th>\n",
              "      <td>2023-10-03</td>\n",
              "      <td>1540.0</td>\n",
              "      <td>1600.0</td>\n",
              "      <td>-60.0</td>\n",
              "      <td>0.000000</td>\n",
              "      <td>-55.281012</td>\n",
              "      <td>-55.281012</td>\n",
              "      <td>213.210292</td>\n",
              "      <td>-213.210292</td>\n",
              "    </tr>\n",
              "    <tr>\n",
              "      <th>3</th>\n",
              "      <td>2023-10-04</td>\n",
              "      <td>1510.0</td>\n",
              "      <td>1581.0</td>\n",
              "      <td>-71.0</td>\n",
              "      <td>0.000000</td>\n",
              "      <td>-121.562023</td>\n",
              "      <td>-121.562023</td>\n",
              "      <td>213.210292</td>\n",
              "      <td>-213.210292</td>\n",
              "    </tr>\n",
              "    <tr>\n",
              "      <th>4</th>\n",
              "      <td>2023-10-05</td>\n",
              "      <td>1545.0</td>\n",
              "      <td>1567.0</td>\n",
              "      <td>-22.0</td>\n",
              "      <td>0.000000</td>\n",
              "      <td>-138.843035</td>\n",
              "      <td>-138.843035</td>\n",
              "      <td>213.210292</td>\n",
              "      <td>-213.210292</td>\n",
              "    </tr>\n",
              "    <tr>\n",
              "      <th>...</th>\n",
              "      <td>...</td>\n",
              "      <td>...</td>\n",
              "      <td>...</td>\n",
              "      <td>...</td>\n",
              "      <td>...</td>\n",
              "      <td>...</td>\n",
              "      <td>...</td>\n",
              "      <td>...</td>\n",
              "      <td>...</td>\n",
              "    </tr>\n",
              "    <tr>\n",
              "      <th>93</th>\n",
              "      <td>2024-02-15</td>\n",
              "      <td>2390.0</td>\n",
              "      <td>2356.0</td>\n",
              "      <td>34.0</td>\n",
              "      <td>244.846229</td>\n",
              "      <td>0.000000</td>\n",
              "      <td>244.846229</td>\n",
              "      <td>213.210292</td>\n",
              "      <td>-213.210292</td>\n",
              "    </tr>\n",
              "    <tr>\n",
              "      <th>94</th>\n",
              "      <td>2024-02-16</td>\n",
              "      <td>2330.0</td>\n",
              "      <td>2360.0</td>\n",
              "      <td>-30.0</td>\n",
              "      <td>176.923159</td>\n",
              "      <td>-25.281012</td>\n",
              "      <td>151.642148</td>\n",
              "      <td>213.210292</td>\n",
              "      <td>-213.210292</td>\n",
              "    </tr>\n",
              "    <tr>\n",
              "      <th>95</th>\n",
              "      <td>2024-02-19</td>\n",
              "      <td>2380.0</td>\n",
              "      <td>2364.0</td>\n",
              "      <td>16.0</td>\n",
              "      <td>155.000089</td>\n",
              "      <td>-4.562023</td>\n",
              "      <td>150.438066</td>\n",
              "      <td>213.210292</td>\n",
              "      <td>-213.210292</td>\n",
              "    </tr>\n",
              "    <tr>\n",
              "      <th>96</th>\n",
              "      <td>2024-02-20</td>\n",
              "      <td>2480.0</td>\n",
              "      <td>2386.0</td>\n",
              "      <td>94.0</td>\n",
              "      <td>211.077019</td>\n",
              "      <td>0.000000</td>\n",
              "      <td>211.077019</td>\n",
              "      <td>213.210292</td>\n",
              "      <td>-213.210292</td>\n",
              "    </tr>\n",
              "    <tr>\n",
              "      <th>97</th>\n",
              "      <td>2024-02-21</td>\n",
              "      <td>2440.0</td>\n",
              "      <td>2404.0</td>\n",
              "      <td>36.0</td>\n",
              "      <td>209.153949</td>\n",
              "      <td>0.000000</td>\n",
              "      <td>209.153949</td>\n",
              "      <td>213.210292</td>\n",
              "      <td>-213.210292</td>\n",
              "    </tr>\n",
              "  </tbody>\n",
              "</table>\n",
              "<p>98 rows × 9 columns</p>\n",
              "</div>"
            ],
            "text/plain": [
              "         Date   Close    SMA5  error      C_plus       C_min           C  \\\n",
              "0  2023-09-29  1625.0  1621.0    4.0    0.000000    0.000000    0.000000   \n",
              "1  2023-10-02  1615.0  1616.0   -1.0    0.000000    0.000000    0.000000   \n",
              "2  2023-10-03  1540.0  1600.0  -60.0    0.000000  -55.281012  -55.281012   \n",
              "3  2023-10-04  1510.0  1581.0  -71.0    0.000000 -121.562023 -121.562023   \n",
              "4  2023-10-05  1545.0  1567.0  -22.0    0.000000 -138.843035 -138.843035   \n",
              "..        ...     ...     ...    ...         ...         ...         ...   \n",
              "93 2024-02-15  2390.0  2356.0   34.0  244.846229    0.000000  244.846229   \n",
              "94 2024-02-16  2330.0  2360.0  -30.0  176.923159  -25.281012  151.642148   \n",
              "95 2024-02-19  2380.0  2364.0   16.0  155.000089   -4.562023  150.438066   \n",
              "96 2024-02-20  2480.0  2386.0   94.0  211.077019    0.000000  211.077019   \n",
              "97 2024-02-21  2440.0  2404.0   36.0  209.153949    0.000000  209.153949   \n",
              "\n",
              "           UCL         LCL  \n",
              "0   213.210292 -213.210292  \n",
              "1   213.210292 -213.210292  \n",
              "2   213.210292 -213.210292  \n",
              "3   213.210292 -213.210292  \n",
              "4   213.210292 -213.210292  \n",
              "..         ...         ...  \n",
              "93  213.210292 -213.210292  \n",
              "94  213.210292 -213.210292  \n",
              "95  213.210292 -213.210292  \n",
              "96  213.210292 -213.210292  \n",
              "97  213.210292 -213.210292  \n",
              "\n",
              "[98 rows x 9 columns]"
            ]
          },
          "execution_count": 78,
          "metadata": {},
          "output_type": "execute_result"
        }
      ],
      "source": [
        "df_sma5_fix['UCL'] = UCL\n",
        "df_sma5_fix['LCL'] = LCL\n",
        "df_sma5_fix"
      ]
    },
    {
      "cell_type": "code",
      "execution_count": 98,
      "metadata": {
        "colab": {
          "base_uri": "https://localhost:8080/",
          "height": 447
        },
        "id": "ntbsg53Jvr_o",
        "outputId": "d92bc16c-5a38-401d-9a6f-a5626655ce8f"
      },
      "outputs": [
        {
          "data": {
            "text/plain": [
              "(-400.0, 400.0)"
            ]
          },
          "execution_count": 98,
          "metadata": {},
          "output_type": "execute_result"
        },
        {
          "data": {
            "image/png": "[encoded data removed]",
            "text/plain": [
              "<Figure size 640x480 with 1 Axes>"
            ]
          },
          "metadata": {},
          "output_type": "display_data"
        }
      ],
      "source": [
        "plt.plot(df_sma5_fix['C_plus'],  '-o')\n",
        "plt.plot(df_sma5_fix['C_min'],  '-o')\n",
        "plt.plot(df_sma5_fix['UCL'], \"-\")\n",
        "plt.plot(df_sma5_fix['LCL'], \"-\")\n",
        "plt.ylim([-400,400])"
      ]
    },
    {
      "cell_type": "markdown",
      "metadata": {
        "id": "2wWU1fd2CwYh"
      },
      "source": [
        "# Exercise in Soal"
      ]
    },
    {
      "cell_type": "code",
      "execution_count": 80,
      "metadata": {
        "id": "SDsVtk01CzPB"
      },
      "outputs": [],
      "source": [
        "x = [5.5358,-2.6183, 0.0130, 1.3543, 12.6980, 2.9007, 0.8985, 2.9240,\n",
        "2.6663, -1.6710]\n",
        "data = pd.DataFrame(x)\n",
        "data = data.rename(columns = {0 : 'error'})\n"
      ]
    },
    {
      "cell_type": "code",
      "execution_count": 81,
      "metadata": {
        "colab": {
          "base_uri": "https://localhost:8080/"
        },
        "id": "6dAgPFthDdOT",
        "outputId": "08f69f10-f390-4c40-d3a4-d81d2c06901e"
      },
      "outputs": [
        {
          "data": {
            "text/html": [
              "<div>\n",
              "<style scoped>\n",
              "    .dataframe tbody tr th:only-of-type {\n",
              "        vertical-align: middle;\n",
              "    }\n",
              "\n",
              "    .dataframe tbody tr th {\n",
              "        vertical-align: top;\n",
              "    }\n",
              "\n",
              "    .dataframe thead th {\n",
              "        text-align: right;\n",
              "    }\n",
              "</style>\n",
              "<table border=\"1\" class=\"dataframe\">\n",
              "  <thead>\n",
              "    <tr style=\"text-align: right;\">\n",
              "      <th></th>\n",
              "      <th>error</th>\n",
              "    </tr>\n",
              "  </thead>\n",
              "  <tbody>\n",
              "    <tr>\n",
              "      <th>0</th>\n",
              "      <td>5.5358</td>\n",
              "    </tr>\n",
              "    <tr>\n",
              "      <th>1</th>\n",
              "      <td>-2.6183</td>\n",
              "    </tr>\n",
              "    <tr>\n",
              "      <th>2</th>\n",
              "      <td>0.0130</td>\n",
              "    </tr>\n",
              "    <tr>\n",
              "      <th>3</th>\n",
              "      <td>1.3543</td>\n",
              "    </tr>\n",
              "    <tr>\n",
              "      <th>4</th>\n",
              "      <td>12.6980</td>\n",
              "    </tr>\n",
              "  </tbody>\n",
              "</table>\n",
              "</div>"
            ],
            "text/plain": [
              "     error\n",
              "0   5.5358\n",
              "1  -2.6183\n",
              "2   0.0130\n",
              "3   1.3543\n",
              "4  12.6980"
            ]
          },
          "execution_count": 81,
          "metadata": {},
          "output_type": "execute_result"
        }
      ],
      "source": [
        "data.head()"
      ]
    },
    {
      "cell_type": "code",
      "execution_count": 89,
      "metadata": {
        "colab": {
          "base_uri": "https://localhost:8080/"
        },
        "id": "ZBkQbtNxEMj1",
        "outputId": "5deb9a43-6cdb-42ba-bb31-0d8b70214eb5"
      },
      "outputs": [
        {
          "data": {
            "text/plain": [
              "2.47013"
            ]
          },
          "execution_count": 89,
          "metadata": {},
          "output_type": "execute_result"
        }
      ],
      "source": [
        "T_1 = data['error'].mean()\n",
        "T_1"
      ]
    },
    {
      "cell_type": "code",
      "execution_count": 90,
      "metadata": {
        "colab": {
          "base_uri": "https://localhost:8080/"
        },
        "id": "hChgpyYuEa3k",
        "outputId": "6a4c9b3f-6720-4abf-9939-1899162f910d"
      },
      "outputs": [
        {
          "data": {
            "text/plain": [
              "2.155298324807187"
            ]
          },
          "execution_count": 90,
          "metadata": {},
          "output_type": "execute_result"
        }
      ],
      "source": [
        "K_1 = 0.5*data['error'].std()\n",
        "K_1"
      ]
    },
    {
      "cell_type": "code",
      "execution_count": 91,
      "metadata": {
        "id": "Dr6_7Pw7EmHg"
      },
      "outputs": [],
      "source": [
        "UCL_1 = 0 + 10*K_1 # Since K=0.5*sigma\n",
        "LCL_1 = 0 - 10*K_1"
      ]
    },
    {
      "cell_type": "code",
      "execution_count": 92,
      "metadata": {
        "colab": {
          "base_uri": "https://localhost:8080/"
        },
        "id": "Pk4bojn8E8fF",
        "outputId": "d6244cb0-988d-4332-c35e-50abe468c061"
      },
      "outputs": [
        {
          "data": {
            "text/html": [
              "<div>\n",
              "<style scoped>\n",
              "    .dataframe tbody tr th:only-of-type {\n",
              "        vertical-align: middle;\n",
              "    }\n",
              "\n",
              "    .dataframe tbody tr th {\n",
              "        vertical-align: top;\n",
              "    }\n",
              "\n",
              "    .dataframe thead th {\n",
              "        text-align: right;\n",
              "    }\n",
              "</style>\n",
              "<table border=\"1\" class=\"dataframe\">\n",
              "  <thead>\n",
              "    <tr style=\"text-align: right;\">\n",
              "      <th></th>\n",
              "      <th>error</th>\n",
              "      <th>UCL</th>\n",
              "      <th>LCL</th>\n",
              "      <th>C_plus</th>\n",
              "      <th>C_min</th>\n",
              "      <th>C</th>\n",
              "    </tr>\n",
              "  </thead>\n",
              "  <tbody>\n",
              "    <tr>\n",
              "      <th>0</th>\n",
              "      <td>5.5358</td>\n",
              "      <td>21.552983</td>\n",
              "      <td>-21.552983</td>\n",
              "      <td>2.470130</td>\n",
              "      <td>2.470130</td>\n",
              "      <td>2.470130</td>\n",
              "    </tr>\n",
              "    <tr>\n",
              "      <th>1</th>\n",
              "      <td>-2.6183</td>\n",
              "      <td>21.552983</td>\n",
              "      <td>-21.552983</td>\n",
              "      <td>0.000000</td>\n",
              "      <td>-0.463002</td>\n",
              "      <td>-0.463002</td>\n",
              "    </tr>\n",
              "    <tr>\n",
              "      <th>2</th>\n",
              "      <td>0.0130</td>\n",
              "      <td>21.552983</td>\n",
              "      <td>-21.552983</td>\n",
              "      <td>0.000000</td>\n",
              "      <td>-0.764833</td>\n",
              "      <td>-0.764833</td>\n",
              "    </tr>\n",
              "    <tr>\n",
              "      <th>3</th>\n",
              "      <td>1.3543</td>\n",
              "      <td>21.552983</td>\n",
              "      <td>-21.552983</td>\n",
              "      <td>0.000000</td>\n",
              "      <td>0.000000</td>\n",
              "      <td>0.000000</td>\n",
              "    </tr>\n",
              "    <tr>\n",
              "      <th>4</th>\n",
              "      <td>12.6980</td>\n",
              "      <td>21.552983</td>\n",
              "      <td>-21.552983</td>\n",
              "      <td>8.072572</td>\n",
              "      <td>0.000000</td>\n",
              "      <td>8.072572</td>\n",
              "    </tr>\n",
              "    <tr>\n",
              "      <th>5</th>\n",
              "      <td>2.9007</td>\n",
              "      <td>21.552983</td>\n",
              "      <td>-21.552983</td>\n",
              "      <td>6.347843</td>\n",
              "      <td>0.000000</td>\n",
              "      <td>6.347843</td>\n",
              "    </tr>\n",
              "    <tr>\n",
              "      <th>6</th>\n",
              "      <td>0.8985</td>\n",
              "      <td>21.552983</td>\n",
              "      <td>-21.552983</td>\n",
              "      <td>2.620915</td>\n",
              "      <td>0.000000</td>\n",
              "      <td>2.620915</td>\n",
              "    </tr>\n",
              "    <tr>\n",
              "      <th>7</th>\n",
              "      <td>2.9240</td>\n",
              "      <td>21.552983</td>\n",
              "      <td>-21.552983</td>\n",
              "      <td>0.919487</td>\n",
              "      <td>0.000000</td>\n",
              "      <td>0.919487</td>\n",
              "    </tr>\n",
              "    <tr>\n",
              "      <th>8</th>\n",
              "      <td>2.6663</td>\n",
              "      <td>21.552983</td>\n",
              "      <td>-21.552983</td>\n",
              "      <td>0.000000</td>\n",
              "      <td>0.000000</td>\n",
              "      <td>0.000000</td>\n",
              "    </tr>\n",
              "    <tr>\n",
              "      <th>9</th>\n",
              "      <td>-1.6710</td>\n",
              "      <td>21.552983</td>\n",
              "      <td>-21.552983</td>\n",
              "      <td>0.000000</td>\n",
              "      <td>-1.985832</td>\n",
              "      <td>-1.985832</td>\n",
              "    </tr>\n",
              "  </tbody>\n",
              "</table>\n",
              "</div>"
            ],
            "text/plain": [
              "     error        UCL        LCL    C_plus     C_min         C\n",
              "0   5.5358  21.552983 -21.552983  2.470130  2.470130  2.470130\n",
              "1  -2.6183  21.552983 -21.552983  0.000000 -0.463002 -0.463002\n",
              "2   0.0130  21.552983 -21.552983  0.000000 -0.764833 -0.764833\n",
              "3   1.3543  21.552983 -21.552983  0.000000  0.000000  0.000000\n",
              "4  12.6980  21.552983 -21.552983  8.072572  0.000000  8.072572\n",
              "5   2.9007  21.552983 -21.552983  6.347843  0.000000  6.347843\n",
              "6   0.8985  21.552983 -21.552983  2.620915  0.000000  2.620915\n",
              "7   2.9240  21.552983 -21.552983  0.919487  0.000000  0.919487\n",
              "8   2.6663  21.552983 -21.552983  0.000000  0.000000  0.000000\n",
              "9  -1.6710  21.552983 -21.552983  0.000000 -1.985832 -1.985832"
            ]
          },
          "execution_count": 92,
          "metadata": {},
          "output_type": "execute_result"
        }
      ],
      "source": [
        "data['UCL'] = UCL_1\n",
        "data['LCL'] = LCL_1\n",
        "data"
      ]
    },
    {
      "cell_type": "code",
      "execution_count": 93,
      "metadata": {
        "id": "1PX05orxEr4E"
      },
      "outputs": [],
      "source": [
        "data['C_plus'] = T_1\n",
        "data['C_min'] = T_1\n",
        "data['C'] = T_1"
      ]
    },
    {
      "cell_type": "code",
      "execution_count": 94,
      "metadata": {
        "colab": {
          "base_uri": "https://localhost:8080/"
        },
        "id": "3lh4IxJ3Evzy",
        "outputId": "26a37103-2a8f-442b-e115-79afaa02c63f"
      },
      "outputs": [],
      "source": [
        "for i in range(1,10):\n",
        "  data['C_plus'][i] = max(0, data['error'][i] - (T_1+K_1) +  data['C_plus'][i-1])\n",
        "  data['C_min'][i] = min(0, data['error'][i] - (T_1-K_1) +  data['C_min'][i-1])\n",
        "  data['C'][i] = data['C_plus'][i] + data['C_min'][i]"
      ]
    },
    {
      "cell_type": "code",
      "execution_count": 96,
      "metadata": {
        "colab": {
          "base_uri": "https://localhost:8080/"
        },
        "id": "m1-3en01FCGU",
        "outputId": "94bf658b-c25e-4bed-b5d4-fd3a549c5dfe"
      },
      "outputs": [
        {
          "data": {
            "text/plain": [
              "(-25.0, 25.0)"
            ]
          },
          "execution_count": 96,
          "metadata": {},
          "output_type": "execute_result"
        },
        {
          "data": {
            "image/png": "[encoded data removed]",
            "text/plain": [
              "<Figure size 640x480 with 1 Axes>"
            ]
          },
          "metadata": {},
          "output_type": "display_data"
        }
      ],
      "source": [
        "plt.plot(data['C_plus'],  '-o')\n",
        "plt.plot(data['C_min'],  '-o')\n",
        "plt.plot(data['UCL'], \"-\")\n",
        "plt.plot(data['LCL'], \"-\")\n",
        "plt.ylim([-25,25])"
      ]
    }
  ],
  "metadata": {
    "colab": {
      "provenance": []
    },
    "kernelspec": {
      "display_name": "Python 3",
      "name": "python3"
    },
    "language_info": {
      "codemirror_mode": {
        "name": "ipython",
        "version": 3
      },
      "file_extension": ".py",
      "mimetype": "text/x-python",
      "name": "python",
      "nbconvert_exporter": "python",
      "pygments_lexer": "ipython3",
      "version": "3.9.13"
    }
  },
  "nbformat": 4,
  "nbformat_minor": 0
}
